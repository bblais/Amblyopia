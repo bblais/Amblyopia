{
 "cells": [
  {
   "cell_type": "code",
   "execution_count": null,
   "id": "da63b58d-f768-4b56-9b86-70dfdcda702c",
   "metadata": {},
   "outputs": [],
   "source": [
    "%matplotlib inline\n",
    "from pylab import *"
   ]
  },
  {
   "cell_type": "code",
   "execution_count": null,
   "id": "65686fbc-bc06-4600-8ec7-899ea86719f4",
   "metadata": {},
   "outputs": [
    {
     "name": "stdout",
     "output_type": "stream",
     "text": [
      "Splikes version  0.1.4\n",
      "Plasticnet version  0.1.11\n",
      "macOS-14.4.1-arm64-arm-64bit\n",
      "Base Image File: asdf/bbsk081604_all_log2dog.asdf\n"
     ]
    }
   ],
   "source": [
    "from deficit_defs import *"
   ]
  },
  {
   "cell_type": "markdown",
   "id": "f8457e44-4974-4c2b-92d0-cceb9463fd50",
   "metadata": {},
   "source": [
    "## From a deficit, compare the rates of \n",
    "\n",
    "- fix (just lenses)\n",
    "- patch\n",
    "- blur\n",
    "- contrast\n",
    "- constrast + mask\n",
    "\n",
    "Fixed params\n",
    "\n",
    "- open eye noise =0.1\n",
    "- time of 100 hours (arbitrary)\n",
    "\n",
    "Measure\n",
    "\n",
    "- response (max response to gratings, across spatial freq and orientiation)\n",
    "- recovery rate per hour"
   ]
  },
  {
   "cell_type": "code",
   "execution_count": null,
   "id": "b1bd796f-faf4-42e1-a7a4-d615748ac5d2",
   "metadata": {},
   "outputs": [],
   "source": [
    "import ray \n",
    "\n",
    "@ray.remote\n",
    "def run_one_continuous_fix(params,overwrite=False):\n",
    "    import plasticnet as pn\n",
    "    count,eta,noise,number_of_neurons,sfname=(params.count,params.eta,params.noise,\n",
    "                                        params.number_of_neurons,params.sfname)\n",
    "    \n",
    "    if not overwrite and os.path.exists(sfname):\n",
    "        return sfname\n",
    "    \n",
    "    seq=pn.Sequence()\n",
    "    # deliberately use a standard deficit, with it's own eta and noise\n",
    "    seq+=deficit(number_of_neurons=params.number_of_neurons,total_time=1*day,) \n",
    "\n",
    "    seq+=fix(total_time=10*hour, # total_time=100*hour,\n",
    "             save_interval=20*minute,number_of_neurons=params.number_of_neurons,\n",
    "             eta=eta,noise=noise)\n",
    "\n",
    "    seq.run(display_hash=False)\n",
    "    pn.save(sfname,seq) \n",
    "    \n",
    "    return sfname\n",
    "    "
   ]
  },
  {
   "cell_type": "markdown",
   "id": "86023e87-ec89-4805-af53-3426d0ca31f5",
   "metadata": {},
   "source": [
    "use $\\eta=1e-6$ for everything to make the comparison clear"
   ]
  },
  {
   "cell_type": "code",
   "execution_count": null,
   "id": "975ed039-5110-4209-b0eb-8b1942a4b2e7",
   "metadata": {},
   "outputs": [],
   "source": [
    "def run_one_continuous_blur(params,overwrite=False):\n",
    "    import plasticnet as pn\n",
    "    count,blur,eta,noise,number_of_neurons,sfname=(params.count,params.blur,params.eta,params.noise,\n",
    "                                        params.number_of_neurons,params.sfname)\n",
    "    \n",
    "    if not overwrite and os.path.exists(sfname):\n",
    "        return sfname\n",
    "    \n",
    "    \n",
    "    seq=pn.Sequence()\n",
    "    # deliberately use a standard deficit, with it's own eta and noise\n",
    "    seq+=deficit(number_of_neurons=params.number_of_neurons) \n",
    "\n",
    "    seq+=treatment(blur=blur,\n",
    "                   noise=0.1,\n",
    "                   noise2=noise,  # treated (strong-eye) noise\n",
    "                   total_time=100*hour,number_of_neurons=params.number_of_neurons,\n",
    "                   eta=eta,\n",
    "                   save_interval=20*minute)\n",
    "    \n",
    "\n",
    "    seq.run(display_hash=False)\n",
    "    pn.save(sfname,seq) \n",
    "    \n",
    "    return sfname\n",
    "    \n",
    "    \n",
    "def run_one_continuous_patch(params,overwrite=False):\n",
    "    import plasticnet as pn\n",
    "    count,eta,noise,number_of_neurons,sfname=(params.count,params.eta,params.noise,\n",
    "                                        params.number_of_neurons,params.sfname)\n",
    "    \n",
    "    if not overwrite and os.path.exists(sfname):\n",
    "        return sfname\n",
    "    \n",
    "    \n",
    "    seq=pn.Sequence()\n",
    "    # deliberately use a standard deficit, with it's own eta and noise\n",
    "    seq+=deficit(number_of_neurons=params.number_of_neurons) \n",
    "    \n",
    "    seq+=patch_treatment(patch_noise=noise,\n",
    "               total_time=100*hour,number_of_neurons=params.number_of_neurons,\n",
    "               eta=eta,\n",
    "               save_interval=20*minute)\n",
    "\n",
    "    seq.run(display_hash=False,print_time=True)\n",
    "    pn.save(sfname,seq) \n",
    "    \n",
    "    return sfname\n",
    "        "
   ]
  },
  {
   "cell_type": "code",
   "execution_count": null,
   "id": "a309046a-e7e4-4afe-9ed5-bfe8bec20c33",
   "metadata": {},
   "outputs": [],
   "source": [
    "def run_one_continuous_mask(params,overwrite=False):\n",
    "    import plasticnet as pn\n",
    "    count,eta,contrast,mask,f,number_of_neurons,sfname=(params.count,params.eta,params.contrast,params.mask,params.f,\n",
    "                                        params.number_of_neurons,params.sfname)\n",
    "    \n",
    "    if not overwrite and os.path.exists(sfname):\n",
    "        return sfname\n",
    "\n",
    "    \n",
    "    seq=pn.Sequence()\n",
    "    # deliberately use a standard deficit, with it's own eta and noise\n",
    "    seq+=deficit(number_of_neurons=params.number_of_neurons) \n",
    "\n",
    "    seq+=treatment(f=f,\n",
    "                   mask=mask,\n",
    "                   contrast=contrast,\n",
    "                   total_time=100*hour,\n",
    "                   eta=eta,\n",
    "                   save_interval=20*minute)\n",
    "\n",
    "    seq.run(display_hash=False,print_time=True)\n",
    "    pn.save(sfname,seq) \n",
    "\n",
    "    \n",
    "    return sfname\n",
    "    \n",
    "    \n"
   ]
  },
  {
   "cell_type": "markdown",
   "id": "1d349ea6-1e41-457f-93be-4b7ccc5294c2",
   "metadata": {},
   "source": [
    "## This for all sims"
   ]
  },
  {
   "cell_type": "code",
   "execution_count": null,
   "id": "d6d10346-ae3e-4016-acf1-47350af98f3a",
   "metadata": {},
   "outputs": [],
   "source": [
    "def to_named_tuple(params_list):\n",
    "    from collections import namedtuple\n",
    "    keys=list(params_list[0].keys())\n",
    "    keys+=['count']\n",
    "    params=namedtuple('params',keys)\n",
    "    \n",
    "    tuples_list=[]\n",
    "    for count,p in enumerate(params_list):\n",
    "        p2=params(count=count,\n",
    "                  **p)\n",
    "        tuples_list.append(p2)\n",
    "        \n",
    "        \n",
    "    return tuples_list"
   ]
  },
  {
   "cell_type": "code",
   "execution_count": null,
   "id": "4e708e2d-a950-4510-9e34-a554691f3a5c",
   "metadata": {},
   "outputs": [],
   "source": [
    "def make_do_params(all_params,verbose=False):\n",
    "    do_params=[]\n",
    "    for p in all_params:\n",
    "        if os.path.exists(p.sfname):\n",
    "            print(\"Skipping %s...already exists\" % p.sfname)\n",
    "        else:\n",
    "            do_params+=[p]\n",
    "\n",
    "    if verbose:\n",
    "        print(\"%d sims\" % len(do_params))    \n",
    "        if len(do_params)<=15:\n",
    "            print(do_params)\n",
    "        else:\n",
    "            print(do_params[:5],\"...\",do_params[-5:])        \n",
    "    return do_params"
   ]
  },
  {
   "cell_type": "code",
   "execution_count": null,
   "id": "0c735693-2a90-40ff-be9d-2d73820ebb1a",
   "metadata": {},
   "outputs": [],
   "source": [
    "number_of_neurons=20\n",
    "eta=1e-6\n",
    "number_of_processes=4"
   ]
  },
  {
   "cell_type": "markdown",
   "id": "0e49a3fb-5247-47bc-af14-234bbfd2fba7",
   "metadata": {},
   "source": [
    "## Continuous Fix"
   ]
  },
  {
   "cell_type": "code",
   "execution_count": null,
   "id": "d20041ab-fa73-497e-bf19-ce90639992db",
   "metadata": {},
   "outputs": [],
   "source": [
    "func=run_one_continuous_fix\n",
    "\n",
    "noise_mat=linspace(0,1,11)\n",
    "\n",
    "all_params=[]\n",
    "for n,noise in enumerate(noise_mat):\n",
    "    sfname=f'sims-2021-11-19/continuous fix {number_of_neurons} neurons noise {noise:.1f}.asdf'\n",
    "    \n",
    "    p=Struct()\n",
    "    p.eta=eta\n",
    "    p.number_of_neurons=number_of_neurons\n",
    "    p.sfname=sfname\n",
    "    \n",
    "    p.noise=noise\n",
    "    \n",
    "    all_params+=[p]\n",
    "\n",
    "all_params=to_named_tuple(all_params)  "
   ]
  },
  {
   "cell_type": "code",
   "execution_count": null,
   "id": "fbf59d7e-4357-4f3c-a794-c1dc28924a20",
   "metadata": {},
   "outputs": [],
   "source": [
    "# %%time\n",
    "# print(func.__name__)\n",
    "# func(all_params[0],overwrite=True)"
   ]
  },
  {
   "cell_type": "code",
   "execution_count": null,
   "id": "5224f31d-526b-47a2-b0d0-626683c408b6",
   "metadata": {},
   "outputs": [
    {
     "name": "stdout",
     "output_type": "stream",
     "text": [
      "11 sims\n",
      "[params(eta=1e-06, number_of_neurons=20, sfname='sims-2021-11-19/continuous fix 20 neurons noise 0.0.asdf', noise=0.0, count=0), params(eta=1e-06, number_of_neurons=20, sfname='sims-2021-11-19/continuous fix 20 neurons noise 0.1.asdf', noise=0.1, count=1), params(eta=1e-06, number_of_neurons=20, sfname='sims-2021-11-19/continuous fix 20 neurons noise 0.2.asdf', noise=0.2, count=2), params(eta=1e-06, number_of_neurons=20, sfname='sims-2021-11-19/continuous fix 20 neurons noise 0.3.asdf', noise=0.30000000000000004, count=3), params(eta=1e-06, number_of_neurons=20, sfname='sims-2021-11-19/continuous fix 20 neurons noise 0.4.asdf', noise=0.4, count=4), params(eta=1e-06, number_of_neurons=20, sfname='sims-2021-11-19/continuous fix 20 neurons noise 0.5.asdf', noise=0.5, count=5), params(eta=1e-06, number_of_neurons=20, sfname='sims-2021-11-19/continuous fix 20 neurons noise 0.6.asdf', noise=0.6000000000000001, count=6), params(eta=1e-06, number_of_neurons=20, sfname='sims-2021-11-19/continuous fix 20 neurons noise 0.7.asdf', noise=0.7000000000000001, count=7), params(eta=1e-06, number_of_neurons=20, sfname='sims-2021-11-19/continuous fix 20 neurons noise 0.8.asdf', noise=0.8, count=8), params(eta=1e-06, number_of_neurons=20, sfname='sims-2021-11-19/continuous fix 20 neurons noise 0.9.asdf', noise=0.9, count=9), params(eta=1e-06, number_of_neurons=20, sfname='sims-2021-11-19/continuous fix 20 neurons noise 1.0.asdf', noise=1.0, count=10)]\n"
     ]
    }
   ],
   "source": [
    "do_params=make_do_params(all_params,verbose=True)"
   ]
  },
  {
   "cell_type": "code",
   "execution_count": null,
   "id": "7113759e-01ef-4e17-b6ad-3d3742336aca",
   "metadata": {},
   "outputs": [
    {
     "name": "stdout",
     "output_type": "stream",
     "text": [
      "2 m, 38.00 s\n"
     ]
    }
   ],
   "source": [
    "real_time=2*minute+ 38\n",
    "print(time2str(real_time*len(do_params)/number_of_processes))"
   ]
  },
  {
   "cell_type": "code",
   "execution_count": null,
   "id": "d93d4130-d608-4ecb-97d6-2691460a1c2f",
   "metadata": {},
   "outputs": [],
   "source": [
    "# 2 minutes each for a 20 second simulation\n",
    "# set_start_method('fork',force=True)\n",
    "# with Pool(processes=number_of_processes) as pool:\n",
    "#     result = pool.map_async(func, do_params)\n",
    "#     print(result.get())"
   ]
  },
  {
   "cell_type": "code",
   "execution_count": null,
   "id": "eb0405c2-63ca-4fdc-9a0b-4ffe103ae62a",
   "metadata": {},
   "outputs": [],
   "source": [
    "#import ipyparallel as ipp"
   ]
  },
  {
   "cell_type": "code",
   "execution_count": null,
   "id": "6cda2d93-0504-4a06-968a-37d3b4ff6ee4",
   "metadata": {},
   "outputs": [],
   "source": [
    "# gets pickling error\n",
    "# with ipp.Cluster(n=4) as rc:\n",
    "#     view = rc.load_balanced_view()\n",
    "#     asyncresult = view.map_async(func, do_params)\n",
    "#     asyncresult.wait_interactive()\n",
    "#     result = asyncresult.get()"
   ]
  },
  {
   "cell_type": "code",
   "execution_count": null,
   "id": "370643dc-8155-4314-9521-098519b7ddf5",
   "metadata": {},
   "outputs": [
    {
     "name": "stderr",
     "output_type": "stream",
     "text": [
      "2024-05-02 06:50:25,726\tINFO worker.py:1749 -- Started a local Ray instance.\n"
     ]
    },
    {
     "data": {
      "application/vnd.jupyter.widget-view+json": {
       "model_id": "2939edc70699424aa9fa910f5b8c9af9",
       "version_major": 2,
       "version_minor": 0
      },
      "text/html": [
       "<div class=\"lm-Widget p-Widget lm-Panel p-Panel jp-Cell-outputWrapper\">\n",
       "    <div style=\"margin-left: 50px;display: flex;flex-direction: row;align-items: center\">\n",
       "        <div class=\"jp-RenderedHTMLCommon\" style=\"display: flex; flex-direction: row;\">\n",
       "  <svg viewBox=\"0 0 567 224\" fill=\"none\" xmlns=\"http://www.w3.org/2000/svg\" style=\"height: 3em;\">\n",
       "    <g clip-path=\"url(#clip0_4338_178347)\">\n",
       "        <path d=\"M341.29 165.561H355.29L330.13 129.051C345.63 123.991 354.21 112.051 354.21 94.2307C354.21 71.3707 338.72 58.1807 311.88 58.1807H271V165.561H283.27V131.661H311.8C314.25 131.661 316.71 131.501 319.01 131.351L341.25 165.561H341.29ZM283.29 119.851V70.0007H311.82C331.3 70.0007 342.34 78.2907 342.34 94.5507C342.34 111.271 331.34 119.861 311.82 119.861L283.29 119.851ZM451.4 138.411L463.4 165.561H476.74L428.74 58.1807H416L367.83 165.561H380.83L392.83 138.411H451.4ZM446.19 126.601H398L422 72.1407L446.24 126.601H446.19ZM526.11 128.741L566.91 58.1807H554.35L519.99 114.181L485.17 58.1807H472.44L514.01 129.181V165.541H526.13V128.741H526.11Z\" fill=\"var(--jp-ui-font-color0)\"/>\n",
       "        <path d=\"M82.35 104.44C84.0187 97.8827 87.8248 92.0678 93.1671 87.9146C98.5094 83.7614 105.083 81.5067 111.85 81.5067C118.617 81.5067 125.191 83.7614 130.533 87.9146C135.875 92.0678 139.681 97.8827 141.35 104.44H163.75C164.476 101.562 165.622 98.8057 167.15 96.2605L127.45 56.5605C121.071 60.3522 113.526 61.6823 106.235 60.3005C98.9443 58.9187 92.4094 54.9203 87.8602 49.0574C83.3109 43.1946 81.0609 35.8714 81.5332 28.4656C82.0056 21.0599 85.1679 14.0819 90.4252 8.8446C95.6824 3.60726 102.672 0.471508 110.08 0.0272655C117.487 -0.416977 124.802 1.86091 130.647 6.4324C136.493 11.0039 140.467 17.5539 141.821 24.8501C143.175 32.1463 141.816 39.6859 138 46.0505L177.69 85.7505C182.31 82.9877 187.58 81.4995 192.962 81.4375C198.345 81.3755 203.648 82.742 208.33 85.3976C213.012 88.0532 216.907 91.9029 219.616 96.5544C222.326 101.206 223.753 106.492 223.753 111.875C223.753 117.258 222.326 122.545 219.616 127.197C216.907 131.848 213.012 135.698 208.33 138.353C203.648 141.009 198.345 142.375 192.962 142.313C187.58 142.251 182.31 140.763 177.69 138L138 177.7C141.808 184.071 143.155 191.614 141.79 198.91C140.424 206.205 136.44 212.75 130.585 217.313C124.731 221.875 117.412 224.141 110.004 223.683C102.596 223.226 95.6103 220.077 90.3621 214.828C85.1139 209.58 81.9647 202.595 81.5072 195.187C81.0497 187.779 83.3154 180.459 87.878 174.605C92.4405 168.751 98.9853 164.766 106.281 163.401C113.576 162.035 121.119 163.383 127.49 167.19L167.19 127.49C165.664 124.941 164.518 122.182 163.79 119.3H141.39C139.721 125.858 135.915 131.673 130.573 135.826C125.231 139.98 118.657 142.234 111.89 142.234C105.123 142.234 98.5494 139.98 93.2071 135.826C87.8648 131.673 84.0587 125.858 82.39 119.3H60C58.1878 126.495 53.8086 132.78 47.6863 136.971C41.5641 141.163 34.1211 142.972 26.7579 142.059C19.3947 141.146 12.6191 137.574 7.70605 132.014C2.79302 126.454 0.0813599 119.29 0.0813599 111.87C0.0813599 104.451 2.79302 97.2871 7.70605 91.7272C12.6191 86.1673 19.3947 82.5947 26.7579 81.6817C34.1211 80.7686 41.5641 82.5781 47.6863 86.7696C53.8086 90.9611 58.1878 97.2456 60 104.44H82.35ZM100.86 204.32C103.407 206.868 106.759 208.453 110.345 208.806C113.93 209.159 117.527 208.258 120.522 206.256C123.517 204.254 125.725 201.276 126.771 197.828C127.816 194.38 127.633 190.677 126.253 187.349C124.874 184.021 122.383 181.274 119.205 179.577C116.027 177.88 112.359 177.337 108.826 178.042C105.293 178.746 102.113 180.654 99.8291 183.44C97.5451 186.226 96.2979 189.718 96.3 193.32C96.2985 195.364 96.7006 197.388 97.4831 199.275C98.2656 201.163 99.4132 202.877 100.86 204.32ZM204.32 122.88C206.868 120.333 208.453 116.981 208.806 113.396C209.159 109.811 208.258 106.214 206.256 103.219C204.254 100.223 201.275 98.0151 197.827 96.97C194.38 95.9249 190.676 96.1077 187.348 97.4873C184.02 98.8669 181.274 101.358 179.577 104.536C177.879 107.714 177.337 111.382 178.041 114.915C178.746 118.448 180.653 121.627 183.439 123.911C186.226 126.195 189.717 127.443 193.32 127.44C195.364 127.443 197.388 127.042 199.275 126.259C201.163 125.476 202.878 124.328 204.32 122.88ZM122.88 19.4205C120.333 16.8729 116.981 15.2876 113.395 14.9347C109.81 14.5817 106.213 15.483 103.218 17.4849C100.223 19.4868 98.0146 22.4654 96.9696 25.9131C95.9245 29.3608 96.1073 33.0642 97.4869 36.3922C98.8665 39.7202 101.358 42.4668 104.535 44.1639C107.713 45.861 111.381 46.4036 114.914 45.6992C118.447 44.9949 121.627 43.0871 123.911 40.301C126.195 37.515 127.442 34.0231 127.44 30.4205C127.44 28.3772 127.038 26.3539 126.255 24.4664C125.473 22.5788 124.326 20.8642 122.88 19.4205ZM19.42 100.86C16.8725 103.408 15.2872 106.76 14.9342 110.345C14.5813 113.93 15.4826 117.527 17.4844 120.522C19.4863 123.518 22.4649 125.726 25.9127 126.771C29.3604 127.816 33.0638 127.633 36.3918 126.254C39.7198 124.874 42.4664 122.383 44.1635 119.205C45.8606 116.027 46.4032 112.359 45.6988 108.826C44.9944 105.293 43.0866 102.114 40.3006 99.8296C37.5145 97.5455 34.0227 96.2983 30.42 96.3005C26.2938 96.3018 22.337 97.9421 19.42 100.86ZM100.86 100.86C98.3125 103.408 96.7272 106.76 96.3742 110.345C96.0213 113.93 96.9226 117.527 98.9244 120.522C100.926 123.518 103.905 125.726 107.353 126.771C110.8 127.816 114.504 127.633 117.832 126.254C121.16 124.874 123.906 122.383 125.604 119.205C127.301 116.027 127.843 112.359 127.139 108.826C126.434 105.293 124.527 102.114 121.741 99.8296C118.955 97.5455 115.463 96.2983 111.86 96.3005C109.817 96.299 107.793 96.701 105.905 97.4835C104.018 98.2661 102.303 99.4136 100.86 100.86Z\" fill=\"#00AEEF\"/>\n",
       "    </g>\n",
       "    <defs>\n",
       "        <clipPath id=\"clip0_4338_178347\">\n",
       "            <rect width=\"566.93\" height=\"223.75\" fill=\"white\"/>\n",
       "        </clipPath>\n",
       "    </defs>\n",
       "  </svg>\n",
       "</div>\n",
       "\n",
       "        <table class=\"jp-RenderedHTMLCommon\" style=\"border-collapse: collapse;color: var(--jp-ui-font-color1);font-size: var(--jp-ui-font-size1);\">\n",
       "    <tr>\n",
       "        <td style=\"text-align: left\"><b>Python version:</b></td>\n",
       "        <td style=\"text-align: left\"><b>3.11.8</b></td>\n",
       "    </tr>\n",
       "    <tr>\n",
       "        <td style=\"text-align: left\"><b>Ray version:</b></td>\n",
       "        <td style=\"text-align: left\"><b>2.20.0</b></td>\n",
       "    </tr>\n",
       "    \n",
       "</table>\n",
       "\n",
       "    </div>\n",
       "</div>\n"
      ],
      "text/plain": [
       "RayContext(dashboard_url='', python_version='3.11.8', ray_version='2.20.0', ray_commit='5708e75978413e46c703e44f43fd89769f3c148b')"
      ]
     },
     "execution_count": null,
     "metadata": {},
     "output_type": "execute_result"
    }
   ],
   "source": [
    "ray.init(num_cpus=4)"
   ]
  },
  {
   "cell_type": "code",
   "execution_count": null,
   "id": "6b58da72-5a32-4bc3-8b40-3601c7d78e97",
   "metadata": {},
   "outputs": [
    {
     "name": "stdout",
     "output_type": "stream",
     "text": [
      "\u001b[36m(run_one_continuous_fix pid=15456)\u001b[0m Using cache_images_fb0e0464a9d591b2a2ccfa856cccbe19.asdf from cache.Using cache_images_de75a60123a7c262a30ea675be766aff.asdf from cache.Using cache_images_de75a60123a7c262a30ea675be766aff.asdf from cache.Using cache_images_de75a60123a7c262a30ea675be766aff.asdf from cache.[\n",
      "\u001b[36m(run_one_continuous_fix pid=15456)\u001b[0m Grating time elapsed 1.08 s\n",
      "\u001b[36m(run_one_continuous_fix pid=15457)\u001b[0m Using cache_images_fb0e0464a9d591b2a2ccfa856cccbe19.asdf from cache.Using cache_images_de75a60123a7c262a30ea675be766aff.asdf from cache.Using cache_images_de75a60123a7c262a30ea675be766aff.asdf from cache.Using cache_images_de75a60123a7c262a30ea675be766aff.asdf from cache.[\u001b[32m [repeated 3x across cluster]\u001b[0m\n",
      "\u001b[36m(run_one_continuous_fix pid=15457)\u001b[0m .\n",
      "\u001b[36m(run_one_continuous_fix pid=15456)\u001b[0m Grating time elapsed 1.34 s\u001b[32m [repeated 4x across cluster]\u001b[0m\n",
      "\u001b[36m(run_one_continuous_fix pid=15458)\u001b[0m .\u001b[32m [repeated 3x across cluster]\u001b[0m\n",
      "\u001b[36m(run_one_continuous_fix pid=15456)\u001b[0m .] Sequence Time Elapsed...16.93 s\n",
      "\u001b[36m(run_one_continuous_fix pid=15456)\u001b[0m Using cache_images_fb0e0464a9d591b2a2ccfa856cccbe19.asdf from cache.Using cache_images_de75a60123a7c262a30ea675be766aff.asdf from cache.Using cache_images_de75a60123a7c262a30ea675be766aff.asdf from cache.Using cache_images_de75a60123a7c262a30ea675be766aff.asdf from cache.[\n",
      "\u001b[36m(run_one_continuous_fix pid=15457)\u001b[0m Grating time elapsed 1.08 s\u001b[32m [repeated 4x across cluster]\u001b[0m\n",
      "\u001b[36m(run_one_continuous_fix pid=15457)\u001b[0m .\n",
      "\u001b[36m(run_one_continuous_fix pid=15457)\u001b[0m .] Sequence Time Elapsed...16.93 s\u001b[32m [repeated 3x across cluster]\u001b[0m\n",
      "\u001b[36m(run_one_continuous_fix pid=15457)\u001b[0m Using cache_images_fb0e0464a9d591b2a2ccfa856cccbe19.asdf from cache.Using cache_images_de75a60123a7c262a30ea675be766aff.asdf from cache.Using cache_images_de75a60123a7c262a30ea675be766aff.asdf from cache.Using cache_images_de75a60123a7c262a30ea675be766aff.asdf from cache.[\u001b[32m [repeated 3x across cluster]\u001b[0m\n",
      "\u001b[36m(run_one_continuous_fix pid=15456)\u001b[0m .\n",
      "\u001b[36m(run_one_continuous_fix pid=15457)\u001b[0m Grating time elapsed 1.34 s\u001b[32m [repeated 4x across cluster]\u001b[0m\n",
      "\u001b[36m(run_one_continuous_fix pid=15457)\u001b[0m .] Sequence Time Elapsed...16.90 s\n",
      "\u001b[36m(run_one_continuous_fix pid=15458)\u001b[0m .\u001b[32m [repeated 2x across cluster]\u001b[0m\n",
      "\u001b[36m(run_one_continuous_fix pid=15456)\u001b[0m .] Sequence Time Elapsed...17.07 s\n",
      "\u001b[36m(run_one_continuous_fix pid=15457)\u001b[0m Using cache_images_fb0e0464a9d591b2a2ccfa856cccbe19.asdf from cache.Using cache_images_de75a60123a7c262a30ea675be766aff.asdf from cache.Using cache_images_de75a60123a7c262a30ea675be766aff.asdf from cache.Using cache_images_de75a60123a7c262a30ea675be766aff.asdf from cache.[\n",
      "\u001b[36m(run_one_continuous_fix pid=15457)\u001b[0m Grating time elapsed 1.08 s\u001b[32m [repeated 4x across cluster]\u001b[0m\n",
      "\u001b[36m(run_one_continuous_fix pid=15457)\u001b[0m .\n",
      "\u001b[36m(run_one_continuous_fix pid=15459)\u001b[0m .] Sequence Time Elapsed...17.12 s\u001b[32m [repeated 2x across cluster]\u001b[0m\n",
      "\u001b[36m(run_one_continuous_fix pid=15458)\u001b[0m Using cache_images_fb0e0464a9d591b2a2ccfa856cccbe19.asdf from cache.Using cache_images_de75a60123a7c262a30ea675be766aff.asdf from cache.Using cache_images_de75a60123a7c262a30ea675be766aff.asdf from cache.Using cache_images_de75a60123a7c262a30ea675be766aff.asdf from cache.[\u001b[32m [repeated 2x across cluster]\u001b[0m\n",
      "\u001b[36m(run_one_continuous_fix pid=15456)\u001b[0m .\n",
      "\u001b[36m(run_one_continuous_fix pid=15457)\u001b[0m Grating time elapsed 1.34 s\u001b[32m [repeated 3x across cluster]\u001b[0m\n",
      "\u001b[36m(run_one_continuous_fix pid=15457)\u001b[0m .] Sequence Time Elapsed...17.06 s\n",
      "\u001b[36m(run_one_continuous_fix pid=15458)\u001b[0m .\n",
      "\u001b[36m(run_one_continuous_fix pid=15456)\u001b[0m .] Sequence Time Elapsed...16.96 s\n"
     ]
    }
   ],
   "source": [
    "results = [func.remote(p) for p in do_params]\n",
    "sfnames=ray.get(results)"
   ]
  },
  {
   "cell_type": "code",
   "execution_count": null,
   "id": "fadfa6eb-935f-4ec8-a11b-58382318e516",
   "metadata": {},
   "outputs": [
    {
     "data": {
      "text/plain": [
       "['sims-2021-11-19/continuous fix 20 neurons noise 0.0.asdf',\n",
       " 'sims-2021-11-19/continuous fix 20 neurons noise 0.1.asdf',\n",
       " 'sims-2021-11-19/continuous fix 20 neurons noise 0.2.asdf',\n",
       " 'sims-2021-11-19/continuous fix 20 neurons noise 0.3.asdf',\n",
       " 'sims-2021-11-19/continuous fix 20 neurons noise 0.4.asdf',\n",
       " 'sims-2021-11-19/continuous fix 20 neurons noise 0.5.asdf',\n",
       " 'sims-2021-11-19/continuous fix 20 neurons noise 0.6.asdf',\n",
       " 'sims-2021-11-19/continuous fix 20 neurons noise 0.7.asdf',\n",
       " 'sims-2021-11-19/continuous fix 20 neurons noise 0.8.asdf',\n",
       " 'sims-2021-11-19/continuous fix 20 neurons noise 0.9.asdf',\n",
       " 'sims-2021-11-19/continuous fix 20 neurons noise 1.0.asdf']"
      ]
     },
     "execution_count": null,
     "metadata": {},
     "output_type": "execute_result"
    }
   ],
   "source": [
    "sfnames"
   ]
  },
  {
   "cell_type": "code",
   "execution_count": null,
   "id": "cde8a8cc-937d-4a02-a147-f0f061b3732c",
   "metadata": {},
   "outputs": [],
   "source": []
  }
 ],
 "metadata": {
  "kernelspec": {
   "display_name": "python3",
   "language": "python",
   "name": "python3"
  }
 },
 "nbformat": 4,
 "nbformat_minor": 5
}
