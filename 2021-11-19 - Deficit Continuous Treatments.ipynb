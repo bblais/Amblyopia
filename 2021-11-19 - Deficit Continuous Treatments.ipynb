{
 "cells": [
  {
   "cell_type": "code",
   "execution_count": null,
   "id": "da63b58d-f768-4b56-9b86-70dfdcda702c",
   "metadata": {},
   "outputs": [],
   "source": [
    "%pylab inline"
   ]
  },
  {
   "cell_type": "code",
   "execution_count": null,
   "id": "65686fbc-bc06-4600-8ec7-899ea86719f4",
   "metadata": {},
   "outputs": [],
   "source": [
    "from deficit_defs import *"
   ]
  },
  {
   "cell_type": "markdown",
   "id": "f8457e44-4974-4c2b-92d0-cceb9463fd50",
   "metadata": {},
   "source": [
    "## From a deficit, compare the rates of \n",
    "\n",
    "- fix (just lenses)\n",
    "- patch\n",
    "- blur\n",
    "- contrast\n",
    "- constrast + mask\n",
    "\n",
    "Fixed params\n",
    "\n",
    "- open eye noise =0.1\n",
    "- time of 100 hours (arbitrary)\n",
    "\n",
    "Measure\n",
    "\n",
    "- response (max response to gratings, across spatial freq and orientiation)\n",
    "- recovery rate per hour"
   ]
  },
  {
   "cell_type": "code",
   "execution_count": null,
   "id": "b1bd796f-faf4-42e1-a7a4-d615748ac5d2",
   "metadata": {},
   "outputs": [],
   "source": [
    "def run_one_continuous_fix(params,overwrite=False):\n",
    "    import plasticnet as pn\n",
    "    count,eta,noise,number_of_neurons,sfname=(params.count,params.eta,params.noise,\n",
    "                                        params.number_of_neurons,params.sfname)\n",
    "    \n",
    "    if not overwrite and os.path.exists(sfname):\n",
    "        return sfname\n",
    "    \n",
    "    seq=pn.Sequence()\n",
    "    # deliberately use a standard deficit, with it's own eta and noise\n",
    "    seq+=deficit(number_of_neurons=params.number_of_neurons) \n",
    "\n",
    "    seq+=fix(total_time=100*hour,\n",
    "             save_interval=20*minute,number_of_neurons=params.number_of_neurons,\n",
    "             eta=eta,noise=noise)\n",
    "\n",
    "    seq.run(display_hash=False)\n",
    "    pn.save(sfname,seq) \n",
    "    \n",
    "    return sfname\n",
    "    "
   ]
  },
  {
   "cell_type": "markdown",
   "id": "86023e87-ec89-4805-af53-3426d0ca31f5",
   "metadata": {},
   "source": [
    "use $\\eta=1e-6$ for everything to make the comparison clear"
   ]
  },
  {
   "cell_type": "code",
   "execution_count": null,
   "id": "975ed039-5110-4209-b0eb-8b1942a4b2e7",
   "metadata": {},
   "outputs": [],
   "source": [
    "def run_one_continuous_blur(params,overwrite=False):\n",
    "    import plasticnet as pn\n",
    "    count,blur,eta,noise,number_of_neurons,sfname=(params.count,params.blur,params.eta,params.noise,\n",
    "                                        params.number_of_neurons,params.sfname)\n",
    "    \n",
    "    if not overwrite and os.path.exists(sfname):\n",
    "        return sfname\n",
    "    \n",
    "    \n",
    "    seq=pn.Sequence()\n",
    "    # deliberately use a standard deficit, with it's own eta and noise\n",
    "    seq+=deficit(number_of_neurons=params.number_of_neurons) \n",
    "\n",
    "    seq+=treatment(blur=blur,\n",
    "                   noise=0.1,\n",
    "                   noise2=noise,  # treated (strong-eye) noise\n",
    "                   total_time=100*hour,number_of_neurons=params.number_of_neurons,\n",
    "                   eta=eta,\n",
    "                   save_interval=20*minute)\n",
    "    \n",
    "\n",
    "    seq.run(display_hash=False)\n",
    "    pn.save(sfname,seq) \n",
    "    \n",
    "    return sfname\n",
    "    \n",
    "    \n",
    "def run_one_continuous_patch(params,overwrite=False):\n",
    "    import plasticnet as pn\n",
    "    count,eta,noise,number_of_neurons,sfname=(params.count,params.eta,params.noise,\n",
    "                                        params.number_of_neurons,params.sfname)\n",
    "    \n",
    "    if not overwrite and os.path.exists(sfname):\n",
    "        return sfname\n",
    "    \n",
    "    \n",
    "    seq=pn.Sequence()\n",
    "    # deliberately use a standard deficit, with it's own eta and noise\n",
    "    seq+=deficit(number_of_neurons=params.number_of_neurons) \n",
    "    \n",
    "    seq+=patch_treatment(patch_noise=noise,\n",
    "               total_time=100*hour,number_of_neurons=params.number_of_neurons,\n",
    "               eta=eta,\n",
    "               save_interval=20*minute)\n",
    "\n",
    "    seq.run(display_hash=False,print_time=True)\n",
    "    pn.save(sfname,seq) \n",
    "    \n",
    "    return sfname\n",
    "        "
   ]
  },
  {
   "cell_type": "code",
   "execution_count": null,
   "id": "a309046a-e7e4-4afe-9ed5-bfe8bec20c33",
   "metadata": {},
   "outputs": [],
   "source": [
    "def run_one_continuous_mask(params,overwrite=False):\n",
    "    import plasticnet as pn\n",
    "    count,eta,contrast,mask,f,number_of_neurons,sfname=(params.count,params.eta,params.contrast,params.mask,params.f,\n",
    "                                        params.number_of_neurons,params.sfname)\n",
    "    \n",
    "    if not overwrite and os.path.exists(sfname):\n",
    "        return sfname\n",
    "\n",
    "    \n",
    "    seq=pn.Sequence()\n",
    "    # deliberately use a standard deficit, with it's own eta and noise\n",
    "    seq+=deficit(number_of_neurons=params.number_of_neurons) \n",
    "\n",
    "    seq+=treatment(f=f,\n",
    "                   mask=mask,\n",
    "                   contrast=contrast,\n",
    "                   total_time=100*hour,\n",
    "                   eta=eta,\n",
    "                   save_interval=20*minute)\n",
    "\n",
    "    seq.run(display_hash=False,print_time=True)\n",
    "    pn.save(sfname,seq) \n",
    "\n",
    "    \n",
    "    return sfname\n",
    "    \n",
    "    \n"
   ]
  },
  {
   "cell_type": "markdown",
   "id": "1d349ea6-1e41-457f-93be-4b7ccc5294c2",
   "metadata": {},
   "source": [
    "## This for all sims"
   ]
  },
  {
   "cell_type": "code",
   "execution_count": null,
   "id": "d6d10346-ae3e-4016-acf1-47350af98f3a",
   "metadata": {},
   "outputs": [],
   "source": [
    "def to_named_tuple(params_list):\n",
    "    from collections import namedtuple\n",
    "    keys=list(params_list[0].keys())\n",
    "    keys+=['count']\n",
    "    params=namedtuple('params',keys)\n",
    "    \n",
    "    tuples_list=[]\n",
    "    for count,p in enumerate(params_list):\n",
    "        p2=params(count=count,\n",
    "                  **p)\n",
    "        tuples_list.append(p2)\n",
    "        \n",
    "        \n",
    "    return tuples_list"
   ]
  },
  {
   "cell_type": "code",
   "execution_count": null,
   "id": "4e708e2d-a950-4510-9e34-a554691f3a5c",
   "metadata": {},
   "outputs": [],
   "source": [
    "def make_do_params(all_params,verbose=False):\n",
    "    do_params=[]\n",
    "    for p in all_params:\n",
    "        if os.path.exists(p.sfname):\n",
    "            print(\"Skipping %s...already exists\" % p.sfname)\n",
    "        else:\n",
    "            do_params+=[p]\n",
    "\n",
    "    if verbose:\n",
    "        print(\"%d sims\" % len(do_params))    \n",
    "        if len(do_params)<=15:\n",
    "            print(do_params)\n",
    "        else:\n",
    "            print(do_params[:5],\"...\",do_params[-5:])        \n",
    "    return do_params"
   ]
  },
  {
   "cell_type": "code",
   "execution_count": null,
   "id": "0c735693-2a90-40ff-be9d-2d73820ebb1a",
   "metadata": {},
   "outputs": [],
   "source": [
    "number_of_neurons=20\n",
    "eta=1e-6\n",
    "number_of_processes=4"
   ]
  },
  {
   "cell_type": "markdown",
   "id": "0e49a3fb-5247-47bc-af14-234bbfd2fba7",
   "metadata": {},
   "source": [
    "## Continuous Fix"
   ]
  },
  {
   "cell_type": "code",
   "execution_count": null,
   "id": "d20041ab-fa73-497e-bf19-ce90639992db",
   "metadata": {},
   "outputs": [],
   "source": [
    "func=run_one_continuous_fix\n",
    "\n",
    "noise_mat=linspace(0,1,11)\n",
    "\n",
    "all_params=[]\n",
    "for n,noise in enumerate(noise_mat):\n",
    "    sfname=f'sims-2021-11-19/continuous fix {number_of_neurons} neurons noise {noise:.1f}.asdf'\n",
    "    \n",
    "    p=Struct()\n",
    "    p.eta=eta\n",
    "    p.number_of_neurons=number_of_neurons\n",
    "    p.sfname=sfname\n",
    "    \n",
    "    p.noise=noise\n",
    "    \n",
    "    all_params+=[p]\n",
    "\n",
    "all_params=to_named_tuple(all_params)  "
   ]
  },
  {
   "cell_type": "code",
   "execution_count": null,
   "id": "fbf59d7e-4357-4f3c-a794-c1dc28924a20",
   "metadata": {},
   "outputs": [],
   "source": [
    "%%time\n",
    "print(func.__name__)\n",
    "func(all_params[0],overwrite=True)"
   ]
  },
  {
   "cell_type": "code",
   "execution_count": null,
   "id": "5224f31d-526b-47a2-b0d0-626683c408b6",
   "metadata": {},
   "outputs": [],
   "source": [
    "do_params=make_do_params(all_params,verbose=True)"
   ]
  },
  {
   "cell_type": "code",
   "execution_count": null,
   "id": "7113759e-01ef-4e17-b6ad-3d3742336aca",
   "metadata": {},
   "outputs": [],
   "source": [
    "real_time=9*minute+ 6\n",
    "print(time2str(real_time*len(do_params)/number_of_processes))"
   ]
  },
  {
   "cell_type": "code",
   "execution_count": null,
   "id": "d93d4130-d608-4ecb-97d6-2691460a1c2f",
   "metadata": {},
   "outputs": [],
   "source": [
    "pool = Pool(processes=number_of_processes)\n",
    "result = pool.map_async(func, do_params)\n",
    "print(result.get())"
   ]
  },
  {
   "cell_type": "markdown",
   "id": "0db1bced-1033-473e-a79b-04528d8ad7ae",
   "metadata": {},
   "source": [
    "## Patch"
   ]
  },
  {
   "cell_type": "code",
   "execution_count": null,
   "id": "22fde387-18a0-4dc2-a29d-7bed8aa50458",
   "metadata": {},
   "outputs": [],
   "source": [
    "func=func=run_one_continuous_patch\n",
    "\n",
    "closed_eye_noise_mat=linspace(0,1,21)\n",
    "\n",
    "all_params=[]\n",
    "for n,noise in enumerate(closed_eye_noise_mat):\n",
    "    sfname=f'sims-2021-11-19/continuous patch {number_of_neurons} neurons noise {noise:.1f}.asdf'\n",
    "    \n",
    "    p=Struct()\n",
    "    p.eta=eta\n",
    "    p.number_of_neurons=number_of_neurons\n",
    "    p.sfname=sfname\n",
    "    \n",
    "    p.noise=noise\n",
    "    \n",
    "    all_params+=[p]\n",
    "\n",
    "all_params=to_named_tuple(all_params)  \n"
   ]
  },
  {
   "cell_type": "code",
   "execution_count": null,
   "id": "319027d7-fd2c-464f-a11c-5703828cd818",
   "metadata": {},
   "outputs": [],
   "source": [
    "# %%time\n",
    "# print(func.__name__)\n",
    "# func(all_params[0],overwrite=True)"
   ]
  },
  {
   "cell_type": "code",
   "execution_count": null,
   "id": "ce1f79e9-f117-47d5-ab4f-9fe858d23a26",
   "metadata": {},
   "outputs": [],
   "source": [
    "do_params=make_do_params(all_params,verbose=True)"
   ]
  },
  {
   "cell_type": "code",
   "execution_count": null,
   "id": "3ef1d084-2601-40ba-8834-d579a0e1e1d7",
   "metadata": {},
   "outputs": [],
   "source": [
    "real_time=8*minute+ 46\n",
    "print(time2str(real_time*len(do_params)/number_of_processes))"
   ]
  },
  {
   "cell_type": "code",
   "execution_count": null,
   "id": "0ccabbf4-288a-4650-8bbc-fbb9644bd681",
   "metadata": {},
   "outputs": [],
   "source": [
    "pool = Pool(processes=number_of_processes)\n",
    "result = pool.map_async(func, do_params)\n",
    "print(result.get())"
   ]
  },
  {
   "cell_type": "markdown",
   "id": "d67c5254-f7d7-4983-9bee-1aca4ae1a104",
   "metadata": {},
   "source": [
    "## Atropine"
   ]
  },
  {
   "cell_type": "code",
   "execution_count": null,
   "id": "a3fe2219-bcce-4567-bb95-217a973b6bd2",
   "metadata": {},
   "outputs": [],
   "source": [
    "func=func=run_one_continuous_blur\n",
    "\n",
    "\n",
    "atropine_blur_mat=linspace(0,6,21)\n",
    "closed_eye_noise_mat=linspace(0,1,11)\n",
    "\n",
    "all_params=[]\n",
    "for b,blur in enumerate(atropine_blur_mat):\n",
    "    for n,noise in enumerate(closed_eye_noise_mat):\n",
    "        sfname=f'sims-2021-11-19/continuous atropine {number_of_neurons} neurons noise {noise:.1f} blur {blur:0.1f}.asdf'\n",
    "\n",
    "        p=Struct()\n",
    "        p.eta=eta\n",
    "        p.number_of_neurons=number_of_neurons\n",
    "        p.sfname=sfname\n",
    "\n",
    "        p.noise=noise\n",
    "        p.blur=blur\n",
    "\n",
    "        all_params+=[p]\n",
    "\n",
    "all_params=to_named_tuple(all_params)  "
   ]
  },
  {
   "cell_type": "code",
   "execution_count": null,
   "id": "aaf4d97d-a89a-422f-b19f-84f37b0e2607",
   "metadata": {},
   "outputs": [],
   "source": [
    "# %%time\n",
    "# print(func.__name__)\n",
    "# func(all_params[0],overwrite=True)"
   ]
  },
  {
   "cell_type": "code",
   "execution_count": null,
   "id": "7ada6721-0ad7-40e3-aeb0-aa1bffe3a877",
   "metadata": {},
   "outputs": [],
   "source": [
    "do_params=make_do_params(all_params,verbose=True)"
   ]
  },
  {
   "cell_type": "code",
   "execution_count": null,
   "id": "2f5e9c26-f54c-46c2-aa9d-061d187242c3",
   "metadata": {},
   "outputs": [],
   "source": [
    "real_time=7*minute+ 37\n",
    "print(time2str(real_time*len(do_params)/number_of_processes))"
   ]
  },
  {
   "cell_type": "code",
   "execution_count": null,
   "id": "d81f019e-d87e-4633-a195-3463332bcb68",
   "metadata": {},
   "outputs": [],
   "source": [
    "pool = Pool(processes=number_of_processes)\n",
    "result = pool.map_async(func, do_params)\n",
    "print(result.get())"
   ]
  },
  {
   "cell_type": "markdown",
   "id": "d2be7bad-64e6-443f-8552-2ecccbccb61e",
   "metadata": {},
   "source": [
    "## Contrast"
   ]
  },
  {
   "cell_type": "code",
   "execution_count": null,
   "id": "921ded54-e9d6-405e-8f70-3e14bf8d230a",
   "metadata": {},
   "outputs": [],
   "source": [
    "func=func=run_one_continuous_mask\n",
    "\n",
    "\n",
    "contrast_mat=linspace(0,1,11)\n",
    "mask_mat=array([0,1])\n",
    "f_mat=array([10,30,50,70,90])\n",
    "\n",
    "\n",
    "all_params=[]\n",
    "for c,contrast in enumerate(contrast_mat):\n",
    "    sfname=f'sims-2021-11-19/continuous contrast {number_of_neurons} neurons contrast {contrast:.1f}.asdf'\n",
    "\n",
    "    p=Struct()\n",
    "    p.eta=eta\n",
    "    p.number_of_neurons=number_of_neurons\n",
    "    p.sfname=sfname\n",
    "\n",
    "    p.contrast=contrast\n",
    "    p.mask=0\n",
    "    p.f=10. # not used when mask=0\n",
    "\n",
    "    all_params+=[p]\n",
    "\n",
    "all_params=to_named_tuple(all_params)  "
   ]
  },
  {
   "cell_type": "code",
   "execution_count": null,
   "id": "220e6171-059d-42ef-82b4-214e8915f67e",
   "metadata": {},
   "outputs": [],
   "source": [
    "do_params=make_do_params(all_params,verbose=True)"
   ]
  },
  {
   "cell_type": "code",
   "execution_count": null,
   "id": "85ae680a-66c7-4609-837f-eda46294165d",
   "metadata": {},
   "outputs": [],
   "source": [
    "# %%time\n",
    "# print(func.__name__)\n",
    "# func(all_params[0],overwrite=True)"
   ]
  },
  {
   "cell_type": "code",
   "execution_count": null,
   "id": "4764490b-9bbd-4c08-b4e5-7e52b7780f50",
   "metadata": {},
   "outputs": [],
   "source": []
  },
  {
   "cell_type": "code",
   "execution_count": null,
   "id": "e2919721-f48b-48ce-81f2-7d8331a08608",
   "metadata": {},
   "outputs": [],
   "source": [
    "real_time=7*minute+ 55\n",
    "print(time2str(real_time*len(do_params)/number_of_processes))"
   ]
  },
  {
   "cell_type": "code",
   "execution_count": null,
   "id": "740a9203-6b02-4199-884d-f63b8e75b929",
   "metadata": {},
   "outputs": [],
   "source": [
    "pool = Pool(processes=number_of_processes)\n",
    "result = pool.map_async(func, do_params)\n",
    "print(result.get())"
   ]
  },
  {
   "cell_type": "markdown",
   "id": "cd419943-d2a9-4186-8094-029284540076",
   "metadata": {},
   "source": [
    "## Contrast with Mask"
   ]
  },
  {
   "cell_type": "code",
   "execution_count": null,
   "id": "e35f919d-aa4a-4b17-bd50-4fb666238d39",
   "metadata": {},
   "outputs": [],
   "source": [
    "func=func=run_one_continuous_mask\n",
    "\n",
    "\n",
    "contrast_mat=linspace(0,1,11)\n",
    "mask_mat=array([0,1])\n",
    "f_mat=array([10,30,50,70,90])\n",
    "\n",
    "\n",
    "all_params=[]\n",
    "for c,contrast in enumerate(contrast_mat):\n",
    "    for fi,f in enumerate(f_mat):\n",
    "        sfname=f'sims-2021-11-19/continuous contrast {number_of_neurons} neurons contrast {contrast:.1f} mask f {f}.asdf'\n",
    "\n",
    "        p=Struct()\n",
    "        p.eta=eta\n",
    "        p.number_of_neurons=number_of_neurons\n",
    "        p.sfname=sfname\n",
    "\n",
    "        p.contrast=contrast\n",
    "        p.mask=1\n",
    "        p.f=f # not used when mask=0\n",
    "\n",
    "        all_params+=[p]\n",
    "\n",
    "all_params=to_named_tuple(all_params)  \n"
   ]
  },
  {
   "cell_type": "code",
   "execution_count": null,
   "id": "1cd28818-8ed0-48dc-814d-556c4bca357f",
   "metadata": {},
   "outputs": [],
   "source": [
    "# %%time\n",
    "# print(func.__name__)\n",
    "# func(all_params[0],overwrite=True)"
   ]
  },
  {
   "cell_type": "code",
   "execution_count": null,
   "id": "f39ddda2-edec-4152-b4ec-5a1a7f51bca3",
   "metadata": {},
   "outputs": [],
   "source": [
    "do_params=make_do_params(all_params,verbose=True)"
   ]
  },
  {
   "cell_type": "code",
   "execution_count": null,
   "id": "fa2ffa7d-ef13-4143-a0ce-367f90c63e1b",
   "metadata": {},
   "outputs": [],
   "source": [
    "real_time=8*minute+ 8\n",
    "print(time2str(real_time*len(do_params)/number_of_processes))"
   ]
  },
  {
   "cell_type": "code",
   "execution_count": null,
   "id": "714c322f-e855-43f0-af0c-f2d9675aeb29",
   "metadata": {},
   "outputs": [],
   "source": [
    "pool = Pool(processes=number_of_processes)\n",
    "result = pool.map_async(func, do_params)\n",
    "print(result.get())"
   ]
  }
 ],
 "metadata": {
  "kernelspec": {
   "display_name": "Python 3 (ipykernel)",
   "language": "python",
   "name": "python3"
  },
  "language_info": {
   "codemirror_mode": {
    "name": "ipython",
    "version": 3
   },
   "file_extension": ".py",
   "mimetype": "text/x-python",
   "name": "python",
   "nbconvert_exporter": "python",
   "pygments_lexer": "ipython3",
   "version": "3.8.12"
  }
 },
 "nbformat": 4,
 "nbformat_minor": 5
}
